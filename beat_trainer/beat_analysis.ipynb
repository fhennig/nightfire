{
 "cells": [
  {
   "cell_type": "markdown",
   "metadata": {},
   "source": [
    "# Beat Analysis\n",
    "\n",
    "Here I'm analysing the data generated from the rust code, to train on the model."
   ]
  },
  {
   "cell_type": "code",
   "execution_count": 71,
   "metadata": {},
   "outputs": [],
   "source": [
    "import os.path\n",
    "import pickle\n",
    "import numpy as np\n",
    "import random\n",
    "import matplotlib.pyplot as plt"
   ]
  },
  {
   "cell_type": "code",
   "execution_count": 202,
   "metadata": {},
   "outputs": [],
   "source": [
    "DATA_DIR = \"../mixxx_data/data\""
   ]
  },
  {
   "cell_type": "code",
   "execution_count": 215,
   "metadata": {},
   "outputs": [],
   "source": [
    "def load_data(filename):\n",
    "    file = os.path.join(filename)\n",
    "    with open(file, 'rb') as f:\n",
    "        data = dict(pickle.load(f))\n",
    "    return data"
   ]
  },
  {
   "cell_type": "code",
   "execution_count": 206,
   "metadata": {},
   "outputs": [],
   "source": [
    "data = load_data(ps.path.join(DATA_DIR, \"0.pickle\"))\n",
    "target = np.array(data['target'])[:,None]\n",
    "hist = np.array(data['hist'])\n",
    "joined_data = np.hstack((hist, target))\n",
    "joined_data = np.clip(joined_data, 0, 1)"
   ]
  },
  {
   "cell_type": "code",
   "execution_count": 208,
   "metadata": {},
   "outputs": [
    {
     "data": {
      "text/plain": [
       "<matplotlib.image.AxesImage at 0x7f2143384bb0>"
      ]
     },
     "execution_count": 208,
     "metadata": {},
     "output_type": "execute_result"
    },
    {
     "data": {
      "image/png": "[encoded data removed]",
      "text/plain": [
       "<Figure size 1080x504 with 1 Axes>"
      ]
     },
     "metadata": {
      "needs_background": "light"
     },
     "output_type": "display_data"
    }
   ],
   "source": [
    "fig = plt.figure(figsize=(15,7))\n",
    "ax = fig.add_subplot(111)\n",
    "x = 1000\n",
    "ax.imshow(joined_data[x:x+100].T)"
   ]
  },
  {
   "cell_type": "code",
   "execution_count": null,
   "metadata": {},
   "outputs": [],
   "source": []
  },
  {
   "cell_type": "markdown",
   "metadata": {},
   "source": [
    "## Generate Training Data\n",
    "\n"
   ]
  },
  {
   "cell_type": "code",
   "execution_count": 60,
   "metadata": {},
   "outputs": [],
   "source": [
    "def get_pos_neg_indices(min_len_sample: int, target):\n",
    "    pos_indices = [i for i in range(len(target)) if i > min_len_sample and target[i]]\n",
    "    neg_indices = [i for i in range(len(target)) if i > min_len_sample and not target[i]]\n",
    "    return pos_indices, neg_indices"
   ]
  },
  {
   "cell_type": "code",
   "execution_count": 76,
   "metadata": {},
   "outputs": [],
   "source": [
    "data = load_data(\"amelie.pickle\")\n",
    "target = data['target']\n",
    "hist = data['hist']\n",
    "p, n = get_pos_neg_indices(200, target)\n",
    "random.shuffle(p)\n",
    "random.shuffle(n)"
   ]
  },
  {
   "cell_type": "code",
   "execution_count": 187,
   "metadata": {},
   "outputs": [],
   "source": [
    "tr_p_set_size = round(len(p) * 0.7)\n",
    "tr_n_set_size = tr_p_set_size * 3\n",
    "va_p_set_size = len(p) - tr_p_set_size\n",
    "va_n_set_size = va_p_set_size * 3"
   ]
  },
  {
   "cell_type": "code",
   "execution_count": 151,
   "metadata": {},
   "outputs": [],
   "source": [
    "def get_samples(indices, sample_len, hist, target_val):\n",
    "    result = []\n",
    "    for i in indices:\n",
    "        r = {\n",
    "            'input': np.flip(np.array(hist[i - sample_len - 1 : i - 1], dtype=np.single), axis=0).flatten(),\n",
    "            'target': np.array(target_val, dtype=np.single)\n",
    "        }\n",
    "        result.append(r)\n",
    "    return result"
   ]
  },
  {
   "cell_type": "code",
   "execution_count": 188,
   "metadata": {},
   "outputs": [],
   "source": [
    "tr_p_samples = get_samples(p[:tr_p_set_size], 200, hist, 1)\n",
    "tr_n_samples = get_samples(n[:tr_n_set_size], 200, hist, 0)\n",
    "tr_samples = tr_p_samples + tr_n_samples\n",
    "# validation\n",
    "va_p_samples = get_samples(p[tr_p_set_size:tr_p_set_size+va_p_set_size], 200, hist, 1)\n",
    "va_n_samples = get_samples(n[tr_n_set_size:tr_n_set_size+va_n_set_size], 200, hist, 0)\n",
    "va_samples = va_p_samples + va_n_samples"
   ]
  },
  {
   "cell_type": "code",
   "execution_count": 220,
   "metadata": {},
   "outputs": [],
   "source": [
    "def samples_from_dataset(data, hist_len: int, n_weight: int):\n",
    "    target = data['target']\n",
    "    hist = data['hist']\n",
    "    p, n = get_pos_neg_indices(hist_len, target)\n",
    "    random.shuffle(p)\n",
    "    random.shuffle(n)\n",
    "    p_samples = get_samples(p, hist_len, hist, 1)\n",
    "    n_samples = get_samples(n[:len(p) * n_weight], hist_len, hist, 0)\n",
    "    return p_samples, n_samples\n",
    "\n",
    "def load_datasets(data_dir: str, hist_len: int, n_weight: int):\n",
    "    p_samples = []\n",
    "    n_samples = []\n",
    "    for track in os.listdir(data_dir):\n",
    "        print(f\"track: {track}\")\n",
    "        path = os.path.join(data_dir, track)\n",
    "        data = load_data(path)\n",
    "        ps, ns = samples_from_dataset(data, hist_len, n_weight)\n",
    "        p_samples.extend(ps)\n",
    "        n_samples.extend(ns)\n",
    "    random.shuffle(p_samples)\n",
    "    random.shuffle(n_samples)\n",
    "    # split in tr/va\n",
    "    print(f\"p_samples: {len(p_samples)}\")\n",
    "    tr_p_set_size = round(len(p_samples) * 0.7)\n",
    "    tr_n_set_size = tr_p_set_size * n_weight\n",
    "    tr_p_samples = p_samples[:tr_p_set_size]\n",
    "    tr_n_samples = n_samples[:tr_n_set_size]\n",
    "    tr_samples = tr_p_samples + tr_n_samples\n",
    "    # validation\n",
    "    va_p_samples = p_samples[tr_p_set_size:]\n",
    "    va_n_samples = n_samples[tr_n_set_size:]\n",
    "    va_samples = va_p_samples + va_n_samples\n",
    "    return tr_samples, va_samples"
   ]
  },
  {
   "cell_type": "code",
   "execution_count": 221,
   "metadata": {},
   "outputs": [
    {
     "name": "stdout",
     "output_type": "stream",
     "text": [
      "track: 3.pickle\n",
      "track: 0.pickle\n",
      "track: 4.pickle\n",
      "track: 6.pickle\n",
      "track: 5.pickle\n",
      "track: 2.pickle\n",
      "track: 1.pickle\n",
      "p_samples: 7058\n"
     ]
    }
   ],
   "source": [
    "tr_samples, va_samples = load_datasets(DATA_DIR, 200, 3)"
   ]
  },
  {
   "cell_type": "markdown",
   "metadata": {},
   "source": [
    "## Neural Network"
   ]
  },
  {
   "cell_type": "code",
   "execution_count": 222,
   "metadata": {},
   "outputs": [],
   "source": [
    "import torch\n",
    "import torch.nn as nn\n",
    "from torch.utils.data import DataLoader\n",
    "import torch.nn.functional as F\n",
    "from tqdm.notebook import tqdm"
   ]
  },
  {
   "cell_type": "code",
   "execution_count": 223,
   "metadata": {},
   "outputs": [],
   "source": [
    "class SimpleFF(nn.Module):\n",
    "    def __init__(self,\n",
    "                 input_features: int):\n",
    "        super(SimpleFF, self).__init__()\n",
    "        self.ff = nn.Linear(input_features, 1)\n",
    "        \n",
    "    def forward(self, inputs):\n",
    "        out = inputs\n",
    "        out = self.ff(out)\n",
    "        out = torch.sigmoid(out)\n",
    "        return out"
   ]
  },
  {
   "cell_type": "code",
   "execution_count": 224,
   "metadata": {},
   "outputs": [],
   "source": [
    "def validate_model(model, data_loader):\n",
    "    model.eval()\n",
    "    correct = 0\n",
    "    tr_loader = DataLoader(all_samples, shuffle=True)\n",
    "    for sample in tr_loader:\n",
    "        out = model(sample['input'])\n",
    "        beat = out.data[0] > 0.5\n",
    "        correct += beat == (sample['target'] == 1)\n",
    "    v = float(correct)/len(tr_loader)\n",
    "    return v\n",
    "\n",
    "def train(model, tr_set, va_set, epochs=10):\n",
    "    optimizer = torch.optim.Adam(model.parameters())\n",
    "    tr_loader = DataLoader(tr_set, shuffle=True)\n",
    "    va_loader = DataLoader(va_set, shuffle=True)\n",
    "    \n",
    "    for epoch in tqdm(range(epochs)):\n",
    "        model.train()\n",
    "        for sample in tr_loader:\n",
    "            x = sample['input']\n",
    "            y = sample['target']\n",
    "            out = model(x)\n",
    "            #print(f\"out: {out}\")\n",
    "            loss = F.mse_loss(out, y[:,None])\n",
    "            loss.backward()\n",
    "            optimizer.step()\n",
    "            optimizer.zero_grad()\n",
    "        tr_acc = validate_model(model, tr_loader)\n",
    "        va_acc = validate_model(model, va_loader)\n",
    "        print(f\"Acc tr: {tr_acc:.02f}; va: {va_acc:.02f}\")"
   ]
  },
  {
   "cell_type": "code",
   "execution_count": 225,
   "metadata": {},
   "outputs": [
    {
     "data": {
      "application/vnd.jupyter.widget-view+json": {
       "model_id": "b3dbfeec30b046c78ee88daebac28cac",
       "version_major": 2,
       "version_minor": 0
      },
      "text/plain": [
       "HBox(children=(FloatProgress(value=0.0, max=5.0), HTML(value='')))"
      ]
     },
     "metadata": {},
     "output_type": "display_data"
    },
    {
     "name": "stdout",
     "output_type": "stream",
     "text": [
      "Acc tr: 0.96; va: 0.96\n",
      "Acc tr: 0.96; va: 0.96\n",
      "Acc tr: 0.97; va: 0.97\n",
      "Acc tr: 0.93; va: 0.93\n",
      "Acc tr: 0.97; va: 0.97\n",
      "\n"
     ]
    }
   ],
   "source": [
    "model = SimpleFF(6000)\n",
    "train(model, tr_samples, va_samples, epochs=5)"
   ]
  },
  {
   "cell_type": "code",
   "execution_count": null,
   "metadata": {},
   "outputs": [],
   "source": []
  },
  {
   "cell_type": "code",
   "execution_count": null,
   "metadata": {},
   "outputs": [],
   "source": []
  },
  {
   "cell_type": "code",
   "execution_count": 226,
   "metadata": {},
   "outputs": [],
   "source": [
    "w = model.ff.weight.detach().numpy().reshape((200, 30))"
   ]
  },
  {
   "cell_type": "code",
   "execution_count": 227,
   "metadata": {},
   "outputs": [
    {
     "data": {
      "text/plain": [
       "<matplotlib.image.AxesImage at 0x7f21a5106a60>"
      ]
     },
     "execution_count": 227,
     "metadata": {},
     "output_type": "execute_result"
    },
    {
     "data": {
      "image/png": "[encoded data removed]",
      "text/plain": [
       "<Figure size 1080x504 with 1 Axes>"
      ]
     },
     "metadata": {
      "needs_background": "light"
     },
     "output_type": "display_data"
    }
   ],
   "source": [
    "fig = plt.figure(figsize=(15,7))\n",
    "ax = fig.add_subplot(111)\n",
    "ax.imshow(w.T, cmap='seismic')"
   ]
  },
  {
   "cell_type": "code",
   "execution_count": 229,
   "metadata": {},
   "outputs": [
    {
     "data": {
      "text/plain": [
       "Parameter containing:\n",
       "tensor([-1.3559], requires_grad=True)"
      ]
     },
     "execution_count": 229,
     "metadata": {},
     "output_type": "execute_result"
    }
   ],
   "source": [
    "model.ff.bias"
   ]
  },
  {
   "cell_type": "code",
   "execution_count": null,
   "metadata": {},
   "outputs": [],
   "source": []
  }
 ],
 "metadata": {
  "kernelspec": {
   "display_name": "Python 3",
   "language": "python",
   "name": "python3"
  },
  "language_info": {
   "codemirror_mode": {
    "name": "ipython",
    "version": 3
   },
   "file_extension": ".py",
   "mimetype": "text/x-python",
   "name": "python",
   "nbconvert_exporter": "python",
   "pygments_lexer": "ipython3",
   "version": "3.8.2"
  }
 },
 "nbformat": 4,
 "nbformat_minor": 4
}
